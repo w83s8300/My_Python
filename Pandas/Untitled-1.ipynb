{
 "cells": [
  {
   "cell_type": "code",
   "execution_count": null,
   "metadata": {},
   "outputs": [],
   "source": [
    "a=[1,3,5]\n",
    "b=[2,4,6]"
   ]
  },
  {
   "cell_type": "code",
   "execution_count": null,
   "metadata": {},
   "outputs": [
    {
     "name": "stdout",
     "output_type": "stream",
     "text": [
      "[1 3 5]\n"
     ]
    }
   ],
   "source": [
    "import numpy as np\n",
    "x1=np.array ([1,3,5])\n",
    "print(x1)"
   ]
  },
  {
   "cell_type": "code",
   "execution_count": null,
   "metadata": {},
   "outputs": [
    {
     "name": "stdout",
     "output_type": "stream",
     "text": [
      "[0 1 2 3 4 5 6 7 8 9]\n",
      "[1.  2.1 3.  4.  5. ]\n",
      "<class 'numpy.ndarray'>\n",
      "[1 2 3 4 5]\n",
      "(5,)\n",
      "[ 0.  1.  2.  3.  4.  5.  6.  7.  8.  9. 10.]\n"
     ]
    }
   ],
   "source": [
    "a = np.array((0,1,2,3,4,5))\n",
    "b = np.arange(0,10,1)\n",
    "print(b)\n",
    "c = np.arange(0.1,10,1.1)\n",
    "d = np.array([1,2.1,3,4,5])\n",
    "print(d)\n",
    "e = np.array([1,2.1,3,4,5],dtype=np.int8)\n",
    "print(type(e))\n",
    "print(e)\n",
    "print(e.shape)\n",
    "f = np.linspace(0,10,11)\n",
    "print(f)\n"
   ]
  },
  {
   "cell_type": "markdown",
   "metadata": {},
   "source": [
    "2D "
   ]
  },
  {
   "cell_type": "code",
   "execution_count": null,
   "metadata": {},
   "outputs": [
    {
     "name": "stdout",
     "output_type": "stream",
     "text": [
      "[[ 0  1  2  3  4]\n",
      " [ 3  4  5  6  5]\n",
      " [13 14 15 16 15]]\n",
      "(3, 5)\n",
      "[[ 0  1  2  3  4]\n",
      " [ 5  6  7  8  9]\n",
      " [10 11 12 13 14]]\n",
      "[[3 5 7 5]\n",
      " [8 9 9 5]\n",
      " [1 2 4 3]]\n",
      "[[0.10988344 0.84098185 0.82227558]\n",
      " [0.30193954 0.61419388 0.30995903]]\n",
      "[[-0.72515964  1.50825412 -0.31446119]\n",
      " [-1.61643088  0.33756277  1.10609174]]\n",
      "[[0. 0. 0.]\n",
      " [0. 0. 0.]]\n",
      "[[0 0 0 0]\n",
      " [0 0 0 0]\n",
      " [0 0 0 0]]\n",
      "[[1. 1. 1.]\n",
      " [1. 1. 1.]]\n"
     ]
    }
   ],
   "source": [
    "a = np.array([[0,1,2,3,4],[3,4,5,6,5],[13,14,15,16,15]])\n",
    "print(a)\n",
    "print(a.shape)\n",
    "\n",
    "b= np.arange(0,15).reshape((3,-1))\n",
    "print(b)\n",
    "c = np.random.randint(1,10,size=(3,4))\n",
    "print(c)\n",
    "d = np.random.rand(2,3)\n",
    "print(d)\n",
    "e = np.random.randn(2,3)\n",
    "print(e)\n",
    "f = np.zeros((2,3))\n",
    "print(f)\n",
    "g = np.zeros_like(c)\n",
    "print(g)\n",
    "h = np.ones((2,3))\n",
    "print(h)"
   ]
  },
  {
   "cell_type": "code",
   "execution_count": null,
   "metadata": {},
   "outputs": [
    {
     "name": "stdout",
     "output_type": "stream",
     "text": [
      "[[1 2 3]\n",
      " [4 5 6]\n",
      " [7 8 9]]\n",
      "45\n",
      "[ 6 15 24]\n"
     ]
    }
   ],
   "source": [
    "a = np.arange(1,10).reshape((3,-1))\n",
    "print(a)\n",
    "sumA = np.sum(a)\n",
    "print(sumA)\n",
    "sumAxis0 = np.sum(a, axis=1)\n",
    "print(sumAxis0)"
   ]
  }
 ],
 "metadata": {
  "interpreter": {
   "hash": "b3ba2566441a7c06988d0923437866b63cedc61552a5af99d1f4fb67d367b25f"
  },
  "kernelspec": {
   "display_name": "Python 3.8.8 64-bit ('base': conda)",
   "name": "python3"
  },
  "language_info": {
   "codemirror_mode": {
    "name": "ipython",
    "version": 3
   },
   "file_extension": ".py",
   "mimetype": "text/x-python",
   "name": "python",
   "nbconvert_exporter": "python",
   "pygments_lexer": "ipython3",
   "version": "3.8.8"
  },
  "orig_nbformat": 4
 },
 "nbformat": 4,
 "nbformat_minor": 2
}
