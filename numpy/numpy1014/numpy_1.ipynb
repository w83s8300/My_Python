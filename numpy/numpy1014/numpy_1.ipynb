{
 "cells": [
  {
   "cell_type": "markdown",
   "source": [
    "#基本運算"
   ],
   "metadata": {}
  },
  {
   "cell_type": "code",
   "execution_count": 2,
   "source": [
    "a = [1, 3, 5, 7]\r\n",
    "b = [2, 4, 6, 8]\r\n",
    "print(a)\r\n",
    "print(a[0])\r\n",
    "print(type(a))\r\n",
    "print(type(a[0]))\r\n",
    "c = a + b\r\n",
    "print(c)\r\n",
    "d = [x+y for x, y in zip(a,b)]\r\n",
    "print(d)"
   ],
   "outputs": [
    {
     "output_type": "stream",
     "name": "stdout",
     "text": [
      "[1, 3, 5, 7]\n",
      "1\n",
      "<class 'list'>\n",
      "<class 'int'>\n",
      "[1, 3, 5, 7, 2, 4, 6, 8]\n",
      "[3, 7, 11, 15]\n"
     ]
    }
   ],
   "metadata": {}
  },
  {
   "cell_type": "code",
   "execution_count": 7,
   "source": [
    "import numpy as np\r\n",
    "x1 = np.array([1, 3, 5, 7])\r\n",
    "x2 = np.array(b)\r\n",
    "print(x2)\r\n",
    "print(type(x2))\r\n",
    "x3 = x1 ** x2\r\n",
    "print(x3)"
   ],
   "outputs": [
    {
     "output_type": "stream",
     "name": "stdout",
     "text": [
      "[2 4 6 8]\n",
      "<class 'numpy.ndarray'>\n",
      "[      1      81   15625 5764801]\n"
     ]
    }
   ],
   "metadata": {}
  },
  {
   "cell_type": "markdown",
   "source": [
    "np.array 陣列的產生\r\n",
    "int8, int16, int32, int64 整數bits數\r\n",
    "float16, float32, float64\r\n",
    "uint8, uint16, uint32, uint64 正整數\r\n",
    "np.linspace(start, stop, num=50)"
   ],
   "metadata": {}
  },
  {
   "cell_type": "code",
   "execution_count": 20,
   "source": [
    "a = np.array((0,1,2,3,4,5,6,7,8,9))\r\n",
    "b = np.arange(0,10,3) #np.arange(start=0,stop,step=1)\r\n",
    "print(b)\r\n",
    "c = np.arange(0.1, 10, 1.1)\r\n",
    "d = np.array([1, 2.1, 3, 4, 5])\r\n",
    "print(d)\r\n",
    "e = np.array([1, 2.1, 3, 4, 5],dtype=np.int8)\r\n",
    "print(e)\r\n",
    "print(e.shape)\r\n",
    "f = np.linspace(0,10,11)\r\n",
    "print(f)\r\n",
    "g = np.linspace(0,10)\r\n",
    "print(g)\r\n",
    "h = np.arange(10)\r\n",
    "print(h)"
   ],
   "outputs": [
    {
     "output_type": "stream",
     "name": "stdout",
     "text": [
      "[0 3 6 9]\n",
      "[1.  2.1 3.  4.  5. ]\n",
      "[1 2 3 4 5]\n",
      "(5,)\n",
      "[ 0.  1.  2.  3.  4.  5.  6.  7.  8.  9. 10.]\n",
      "[ 0.          0.20408163  0.40816327  0.6122449   0.81632653  1.02040816\n",
      "  1.2244898   1.42857143  1.63265306  1.83673469  2.04081633  2.24489796\n",
      "  2.44897959  2.65306122  2.85714286  3.06122449  3.26530612  3.46938776\n",
      "  3.67346939  3.87755102  4.08163265  4.28571429  4.48979592  4.69387755\n",
      "  4.89795918  5.10204082  5.30612245  5.51020408  5.71428571  5.91836735\n",
      "  6.12244898  6.32653061  6.53061224  6.73469388  6.93877551  7.14285714\n",
      "  7.34693878  7.55102041  7.75510204  7.95918367  8.16326531  8.36734694\n",
      "  8.57142857  8.7755102   8.97959184  9.18367347  9.3877551   9.59183673\n",
      "  9.79591837 10.        ]\n",
      "[0 1 2 3 4 5 6 7 8 9]\n"
     ]
    }
   ],
   "metadata": {}
  },
  {
   "cell_type": "markdown",
   "source": [
    "2D ndarray #維度, 陣列的大小, 第0軸的維度大小是2, 第1軸的維度大小是3@\r\n"
   ],
   "metadata": {}
  },
  {
   "cell_type": "code",
   "execution_count": 28,
   "source": [
    "a = np.array([[0, 1, 2], [3, 4, 5]])\r\n",
    "print(a)\r\n",
    "print(a.shape)\r\n",
    "\r\n",
    "b = np.arange(0,12).reshape((3,4)) #重塑,把原始的陣列轉換成3x4的2D陣列\r\n",
    "print(b)\r\n",
    "b = np.arange(0,15).reshape((-1,5)) #某一個維度值可以給-1,讓系統自動算\r\n",
    "c = np.random.randint(1,10,size=(3,4)) #randint(start,stop,size=(a,b))\r\n",
    "print(c)                               #產生axb的2D陣列，裡面的值是介於start和stop之間的整數\r\n",
    "d = np.random.rand(2,3) #產生2x3的2D陣列,裡面的值是介於0到1的亂數\r\n",
    "print(d)\r\n",
    "e = np.random.randn(2,3) #產生2x3的2D陣列,裡面的值是服從標準常態分佈的亂數\r\n",
    "print(e)\r\n",
    "f = np.zeros((2,3)) #產生全部為0的2x3的2D陣列\r\n",
    "print(f)\r\n",
    "g = np.zeros_like(c) #產生和陣列c一樣大小的2D陣列\r\n",
    "print(g)\r\n",
    "h = np.ones((2,3)) #產生全部為1的2x3的2D陣列\r\n",
    "print(h)"
   ],
   "outputs": [
    {
     "output_type": "stream",
     "name": "stdout",
     "text": [
      "[[0 1 2]\n",
      " [3 4 5]]\n",
      "(2, 3)\n",
      "[[ 0  1  2  3]\n",
      " [ 4  5  6  7]\n",
      " [ 8  9 10 11]]\n",
      "[[4 9 3 6]\n",
      " [1 9 3 2]\n",
      " [8 1 6 8]]\n",
      "[[0.33179163 0.26700757 0.38812797]\n",
      " [0.65095789 0.95600885 0.87834769]]\n",
      "[[-1.01491977 -0.63492337  0.40185923]\n",
      " [ 0.05243358 -0.92271069 -0.58029023]]\n",
      "[[0. 0. 0.]\n",
      " [0. 0. 0.]]\n",
      "[[0 0 0 0]\n",
      " [0 0 0 0]\n",
      " [0 0 0 0]]\n",
      "[[1. 1. 1.]\n",
      " [1. 1. 1.]]\n"
     ]
    }
   ],
   "metadata": {}
  },
  {
   "cell_type": "markdown",
   "source": [
    "基本運算/軸的觀念\r\n",
    "np.sum(array,axis=?) #依axis=?的值,對陣列作加總"
   ],
   "metadata": {}
  },
  {
   "cell_type": "code",
   "execution_count": 52,
   "source": [
    "#np.random.seed(10)\r\n",
    "a = np.random.randint(10,size=(3,4))\r\n",
    "print(a)\r\n",
    "sumA = np.sum(a) #沒有給axis的參數,則對陣列a的所有元素作加總\r\n",
    "print(sumA)\r\n",
    "sumA2 = a.sum() #直接用實體物作a呼叫sum函數作加總運算\r\n",
    "print(sumA2)\r\n",
    "sumAxis0 = np.sum(a, axis=0) #依第0軸的方向作加總\r\n",
    "print(sumAxis0)"
   ],
   "outputs": [
    {
     "output_type": "stream",
     "name": "stdout",
     "text": [
      "[[6 5 6 0]\n",
      " [0 6 9 1]\n",
      " [8 9 1 2]]\n",
      "53\n",
      "53\n",
      "[14 20 16  3]\n"
     ]
    }
   ],
   "metadata": {}
  }
 ],
 "metadata": {
  "orig_nbformat": 4,
  "language_info": {
   "name": "python",
   "version": "3.8.10",
   "mimetype": "text/x-python",
   "codemirror_mode": {
    "name": "ipython",
    "version": 3
   },
   "pygments_lexer": "ipython3",
   "nbconvert_exporter": "python",
   "file_extension": ".py"
  },
  "kernelspec": {
   "name": "python3",
   "display_name": "Python 3.8.10 64-bit ('opencv': conda)"
  },
  "interpreter": {
   "hash": "478e738e1c13909c141128ed13e371917d64692c68c89d557d3a7855cf1bd588"
  }
 },
 "nbformat": 4,
 "nbformat_minor": 2
}