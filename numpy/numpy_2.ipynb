{
 "cells": [
  {
   "cell_type": "markdown",
   "metadata": {},
   "source": [
    "10/21  基本函數\n",
    "欄是直的 "
   ]
  },
  {
   "cell_type": "code",
   "execution_count": 115,
   "metadata": {},
   "outputs": [
    {
     "name": "stdout",
     "output_type": "stream",
     "text": [
      "[[10  8  0  2]\n",
      " [ 9  9 11  5]\n",
      " [ 1  4  4 11]]\n",
      "11\n",
      "[10  9 11 11]\n",
      "[0 1 1 2]\n"
     ]
    }
   ],
   "source": [
    "import numpy as np\n",
    "import pandas as pd\n",
    "a = np.random.randint(12, size=(3,4))\n",
    "print(a)\n",
    "sar = np.max(a)#<=====A的最大值\n",
    "print(sar)\n",
    "sar0 = np.max(a, axis= 0)#<=====A每一欄最大值\n",
    "print(sar0)\n",
    "sarindex = np.argmax(a, axis=0)#<=====A每一欄的最大值在哪一列的位子\n",
    "print(sarindex)"
   ]
  },
  {
   "cell_type": "code",
   "execution_count": 116,
   "metadata": {},
   "outputs": [
    {
     "name": "stdout",
     "output_type": "stream",
     "text": [
      "[[[3 0 2 4]\n",
      "  [4 3 0 2]\n",
      "  [0 3 3 5]]\n",
      "\n",
      " [[3 5 2 1]\n",
      "  [5 3 4 3]\n",
      "  [1 1 4 4]]]\n",
      "[[4 4 5]\n",
      " [5 5 4]]\n"
     ]
    }
   ],
   "source": [
    "b  = np.random.randint(6, size=(2,3,4))#<====(隨機生成0~5的值)(2個表格(2軸))(3*4的表格)(3欄4列))\n",
    "print(b)\n",
    "maxB = np.max(b, axis=-1)# -1重最後開始\n",
    "print(maxB)"
   ]
  },
  {
   "cell_type": "code",
   "execution_count": 117,
   "metadata": {},
   "outputs": [
    {
     "name": "stdout",
     "output_type": "stream",
     "text": [
      "[[0.84595762 0.57371106 0.44093134 0.68168632]\n",
      " [0.2853669  0.57527627 0.2913936  0.13258719]\n",
      " [0.76863621 0.76311969 0.72175504 0.41349791]\n",
      " [0.86504711 0.69526175 0.65299477 0.52855419]\n",
      " [0.43022496 0.60901843 0.26522491 0.90879742]\n",
      " [0.70306701 0.77611842 0.2232087  0.30321841]\n",
      " [0.62372915 0.15586001 0.71565392 0.68757914]\n",
      " [0.30284111 0.29951943 0.77616139 0.32448423]\n",
      " [0.59665683 0.7063245  0.89820998 0.9196979 ]\n",
      " [0.59749128 0.92464846 0.12670497 0.54502052]]\n",
      "['hu' 'do' 'hu' 'hu' 'bi' 'do' 'ca' 'ca' 'bi' 'do']\n",
      "          0         1         2         3\n",
      "0  0.845958  0.573711  0.440931  0.681686\n",
      "1  0.285367  0.575276  0.291394  0.132587\n",
      "2  0.768636  0.763120  0.721755  0.413498\n",
      "3  0.865047  0.695262  0.652995  0.528554\n",
      "4  0.430225  0.609018  0.265225  0.908797\n",
      "5  0.703067  0.776118  0.223209  0.303218\n",
      "6  0.623729  0.155860  0.715654  0.687579\n",
      "7  0.302841  0.299519  0.776161  0.324484\n",
      "8  0.596657  0.706324  0.898210  0.919698\n",
      "9  0.597491  0.924648  0.126705  0.545021\n"
     ]
    }
   ],
   "source": [
    "b = np.random.rand(10,4)#<====隨機生成0~1的小數(3欄4列))\n",
    "lables = np.array(['hu','do','ca','bi'])#b每一欄的最大值在哪一列的位子(列變成檢視的文字)\n",
    "print(b)\n",
    "outindex = np.argmax(b, axis=1)\n",
    "print(lables[outindex])\n",
    "c = pd.DataFrame(b) #<========把b變成pd額的表格\n",
    "print(c)"
   ]
  },
  {
   "cell_type": "markdown",
   "metadata": {},
   "source": [
    "np.all(array)--->True,False\n",
    "np.any(array)---->True,False\n",
    "np.where(array,[x],[y])--->不為0的位子"
   ]
  },
  {
   "cell_type": "code",
   "execution_count": 118,
   "metadata": {},
   "outputs": [
    {
     "name": "stdout",
     "output_type": "stream",
     "text": [
      "[1 1 1 0 1 1]\n",
      "False\n",
      "True\n",
      "(array([0, 1, 2, 4, 5], dtype=int64),)\n"
     ]
    }
   ],
   "source": [
    "a = np.random.randint(2, size=6)\n",
    "print(a)\n",
    "print(np.all(a))#\n",
    "print(np.any(a))\n",
    "print(np.where(a))"
   ]
  },
  {
   "cell_type": "code",
   "execution_count": 119,
   "metadata": {},
   "outputs": [
    {
     "name": "stdout",
     "output_type": "stream",
     "text": [
      "    0  1   2\n",
      "0  10  1  10\n",
      "1   4  1   2\n",
      "2   3  8   6\n",
      "(array([0, 0, 2, 2], dtype=int64), array([0, 2, 1, 2], dtype=int64))\n"
     ]
    }
   ],
   "source": [
    "a = np.random.randint(11, size=(3,3))\n",
    "c = pd.DataFrame(a) #<========把a變成pd額的表格\n",
    "print(c)\n",
    "print(np.where(a>5))#<======取大於5的數\n"
   ]
  },
  {
   "cell_type": "code",
   "execution_count": 120,
   "metadata": {},
   "outputs": [
    {
     "name": "stdout",
     "output_type": "stream",
     "text": [
      "   0   1  2\n",
      "0  8   7  1\n",
      "1  3   4  4\n",
      "2  4  10  7\n",
      "[['big' 'big' 'small']\n",
      " ['small' 'small' 'small']\n",
      " ['small' 'big' 'big']]\n"
     ]
    }
   ],
   "source": [
    "import pandas as pd\n",
    "a = np.random.randint(11, size=(3,3))#<====隨機生成0~10的數(3欄3列))\n",
    "c = pd.DataFrame(a) #<========把a變成pd額的表格\n",
    "print(c)\n",
    "print(np.where(a>5,\"big\",\"small\"))#<======取大於5的數變big 小於5變small"
   ]
  },
  {
   "cell_type": "code",
   "execution_count": 121,
   "metadata": {},
   "outputs": [
    {
     "name": "stdout",
     "output_type": "stream",
     "text": [
      "   0  1  2\n",
      "0 -3 -3 -2\n",
      "1 -1 -3 -4\n",
      "(array([0, 0, 0, 1, 1, 1], dtype=int64), array([0, 1, 2, 0, 1, 2], dtype=int64)) [[ 9  9  4]\n",
      " [ 1  9 16]] [[-3 -3 -2]\n",
      " [-1 -3 -4]]\n"
     ]
    }
   ],
   "source": [
    "a = np.random.randint(-5,5, size=(2,3))\n",
    "print(pd.DataFrame(a))\n",
    "print(np.where(a<0,),a**2,a)#<=====把小於0的值平方"
   ]
  },
  {
   "cell_type": "markdown",
   "metadata": {},
   "source": [
    "擴張,展開"
   ]
  },
  {
   "cell_type": "code",
   "execution_count": 122,
   "metadata": {},
   "outputs": [
    {
     "name": "stdout",
     "output_type": "stream",
     "text": [
      "[0 1 2]\n"
     ]
    }
   ],
   "source": [
    "a = np.arange(3)#<======生成0到2的值\n",
    "print(a)\n",
    "b = a + 1#<=======把a全+1\n",
    "#print(b)\n"
   ]
  },
  {
   "cell_type": "code",
   "execution_count": 123,
   "metadata": {},
   "outputs": [
    {
     "name": "stdout",
     "output_type": "stream",
     "text": [
      "[[0 1 2]\n",
      " [3 4 5]]\n",
      "[[0 2 4]\n",
      " [3 5 7]]\n"
     ]
    }
   ],
   "source": [
    "a2 = np.arange(6).reshape(2,3)\n",
    "print(a2)\n",
    "print(a+a2)#<=====(a+a2)>([0 1 2]+[0 1 2])([0 1 2]+[3 4 5])"
   ]
  },
  {
   "cell_type": "code",
   "execution_count": 124,
   "metadata": {},
   "outputs": [
    {
     "name": "stdout",
     "output_type": "stream",
     "text": [
      "(1, 3)\n",
      "(3, 1)\n",
      "[[0. 1. 2.]\n",
      " [1. 0. 1.]\n",
      " [2. 1. 0.]]\n"
     ]
    }
   ],
   "source": [
    "a = np.array([0,1,2,])\n",
    "b = a[np.newaxis,:]#newaxis是生成一個欄   a是[[1,2,3][]]\n",
    "c = a[:,np.newaxis]#a是[1,2,3]  [[1][2][3]]\n",
    "print(b.shape)\n",
    "print(c.shape)\n",
    "distA = np.empty((3,3))\n",
    "for i ,ar in enumerate(a):#enumerate是下標的值\n",
    "    for j ,ac in enumerate(a):\n",
    "        distA[i,j] = int(((ar-ac)**2)**0.5)\n",
    "print(distA)\n"
   ]
  },
  {
   "cell_type": "code",
   "execution_count": 125,
   "metadata": {},
   "outputs": [
    {
     "name": "stdout",
     "output_type": "stream",
     "text": [
      "     0    1    2    3\n",
      "0  0.0  1.0  2.0  3.0\n",
      "1  1.0  0.0  1.0  2.0\n",
      "2  2.0  1.0  0.0  1.0\n",
      "3  3.0  2.0  1.0  0.0\n"
     ]
    }
   ],
   "source": [
    "a = np.arange(4)\n",
    "b = a[np.newaxis,:]\n",
    "c = a[:,np.newaxis]\n",
    "d=((b-c)**2)**0.5\n",
    "print(pd.DataFrame(d))\n"
   ]
  },
  {
   "cell_type": "markdown",
   "metadata": {},
   "source": [
    "2D"
   ]
  },
  {
   "cell_type": "code",
   "execution_count": 126,
   "metadata": {},
   "outputs": [
    {
     "name": "stdout",
     "output_type": "stream",
     "text": [
      "[[0 1]\n",
      " [2 3]\n",
      " [4 5]]\n",
      "   0  1\n",
      "0  0  1\n",
      "1  2  3\n",
      "2  4  5\n",
      "[[0 1]\n",
      " [2 3]\n",
      " [4 5]]\n",
      "[[0.         2.82842712 5.65685425]\n",
      " [2.82842712 0.         2.82842712]\n",
      " [5.65685425 2.82842712 0.        ]]\n"
     ]
    }
   ],
   "source": [
    "a = np.arange(6).reshape(3,2)\n",
    "print(a)\n",
    "print(pd.DataFrame(a))\n",
    "for i ,ar in enumerate(a):#enumerate是下標的值\n",
    "    for j ,ac in enumerate(a):\n",
    "        distA[i,j] =(((ar[0]-ac[0])**2+(ar[1]-ac[1])**2)**0.5)\n",
    "print(a)\n",
    "print(distA)"
   ]
  },
  {
   "cell_type": "code",
   "execution_count": 127,
   "metadata": {},
   "outputs": [
    {
     "name": "stdout",
     "output_type": "stream",
     "text": [
      "[[0.         2.82842712 5.65685425]\n",
      " [2.82842712 0.         2.82842712]\n",
      " [5.65685425 2.82842712 0.        ]]\n"
     ]
    }
   ],
   "source": [
    "a = np.arange(6).reshape(3,2)\n",
    "b = a[np.newaxis,:,:]\n",
    "c = a[:,np.newaxis,:]\n",
    "d=np.sum((c-b)**2,axis=-1)**0.5\n",
    "print(d)"
   ]
  }
 ],
 "metadata": {
  "interpreter": {
   "hash": "b3ba2566441a7c06988d0923437866b63cedc61552a5af99d1f4fb67d367b25f"
  },
  "kernelspec": {
   "display_name": "Python 3.8.8 64-bit ('base': conda)",
   "name": "python3"
  },
  "language_info": {
   "codemirror_mode": {
    "name": "ipython",
    "version": 3
   },
   "file_extension": ".py",
   "mimetype": "text/x-python",
   "name": "python",
   "nbconvert_exporter": "python",
   "pygments_lexer": "ipython3",
   "version": "3.8.8"
  },
  "orig_nbformat": 4
 },
 "nbformat": 4,
 "nbformat_minor": 2
}
