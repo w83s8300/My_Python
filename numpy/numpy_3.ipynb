{
 "cells": [
  {
   "cell_type": "code",
   "execution_count": 2,
   "metadata": {},
   "outputs": [
    {
     "name": "stdout",
     "output_type": "stream",
     "text": [
      "[ 0  1  2  3  4  5  6  7  8  9 10 11]\n",
      "[[ 0  1  2  3]\n",
      " [ 4  5  6  7]\n",
      " [ 8  9 10 11]]\n",
      "[[ 0  1  2  3]\n",
      " [ 4  5  6  7]\n",
      " [ 8  9 10 11]]\n",
      "[[-1  1  2  3]\n",
      " [ 4  5  6  7]\n",
      " [ 8  9 10 11]]\n",
      "[-1  1  2  3  4  5  6  7  8  9 10 11]\n",
      "[[-1 -2  2  3]\n",
      " [ 4  5  6  7]\n",
      " [ 8  9 10 11]]\n",
      "[-1 -2  2  3  4  5  6  7  8  9 10 11]\n"
     ]
    }
   ],
   "source": [
    "import numpy as np\n",
    "a = np.arange(12)\n",
    "b1 = np.reshape(a, (3,4))\n",
    "b2 = np.reshape(a, (3,4))\n",
    "print(a)\n",
    "print(b1)\n",
    "print(b2)\n",
    "b1[0,0] = -1\n",
    "print(b1)\n",
    "print(a)\n",
    "b2[0,1] = -2\n",
    "print(b2)\n",
    "print(a)\n",
    "\n"
   ]
  },
  {
   "cell_type": "code",
   "execution_count": 7,
   "metadata": {},
   "outputs": [
    {
     "name": "stdout",
     "output_type": "stream",
     "text": [
      "[-1 -2  2  3  4  5  6  7  8  9 10 11]\n",
      "[[-1 -2  2]\n",
      " [ 3  4  5]]\n",
      "[[-1 -2  2  3  4]\n",
      " [ 5  6  7  8  9]\n",
      " [10 11 -1 -2  2]\n",
      " [ 3  4  5  6  7]]\n"
     ]
    }
   ],
   "source": [
    "print(a)\n",
    "b3 = np.resize(a, (2, 3))\n",
    "b4 = np.resize(a, (4, 5))\n",
    "print(b3)\n",
    "print(b4)"
   ]
  },
  {
   "cell_type": "markdown",
   "metadata": {},
   "source": [
    "合併"
   ]
  },
  {
   "cell_type": "code",
   "execution_count": 11,
   "metadata": {},
   "outputs": [
    {
     "name": "stdout",
     "output_type": "stream",
     "text": [
      "[0 1 2]\n",
      "[0 1 2 2 4]\n",
      "[0 1 2 0 1 2]\n"
     ]
    }
   ],
   "source": [
    "a = np.arange(3)\n",
    "print(a)\n",
    "b = np.append(a,[2, 4])#a合併[2, 4]\n",
    "print(b)\n",
    "c = np.append(a,a)\n",
    "print(c)"
   ]
  },
  {
   "cell_type": "code",
   "execution_count": 27,
   "metadata": {},
   "outputs": [
    {
     "name": "stdout",
     "output_type": "stream",
     "text": [
      "[[0 1 2]\n",
      " [3 4 5]]\n",
      "[[0 0 0]\n",
      " [0 0 0]]\n",
      "[[0 1 2 0 0 0]\n",
      " [3 4 5 0 0 0]]\n",
      "[[1. 1. 1.]\n",
      " [1. 1. 1.]\n",
      " [1. 1. 1.]]\n",
      "[[0. 1. 2.]\n",
      " [3. 4. 5.]\n",
      " [1. 1. 1.]\n",
      " [1. 1. 1.]\n",
      " [1. 1. 1.]]\n"
     ]
    }
   ],
   "source": [
    "a2 = np.arange(6).reshape(2, 3)\n",
    "b2 = np.zeros_like(a2)#zeros_like生成全部0\n",
    "c2 = np.ones((3, 3))#ones生成全部1\n",
    "d2 = np.append(a2, b2, axis=1)\n",
    "print(a2)\n",
    "print(b2)\n",
    "print(d2)\n",
    "print(c2)\n",
    "e2 = np.append(a2, c2, axis=0)\n",
    "print(e2)"
   ]
  },
  {
   "cell_type": "code",
   "execution_count": 29,
   "metadata": {},
   "outputs": [
    {
     "name": "stdout",
     "output_type": "stream",
     "text": [
      "[[0 1 2]\n",
      " [3 4 5]]\n",
      "[[0 0 0]\n",
      " [0 0 0]]\n",
      "[[0 1 2 0 0 0]\n",
      " [3 4 5 0 0 0]]\n",
      "[[0 1 2]\n",
      " [3 4 5]\n",
      " [0 0 0]\n",
      " [0 0 0]]\n"
     ]
    }
   ],
   "source": [
    "print(a2)\n",
    "print(b2)\n",
    "f2 = np.hstack((a2,b2))#hstack=append的axis=1\n",
    "print(f2)\n",
    "g2 = np.vstack((a2,b2))#vstack=append的axis=0\n",
    "print(g2)"
   ]
  },
  {
   "cell_type": "markdown",
   "metadata": {},
   "source": [
    "轉置"
   ]
  },
  {
   "cell_type": "code",
   "execution_count": 9,
   "metadata": {},
   "outputs": [
    {
     "name": "stdout",
     "output_type": "stream",
     "text": [
      "[[0 1 2]\n",
      " [3 4 5]]\n",
      "[[0 3]\n",
      " [1 4]\n",
      " [2 5]]\n",
      "[[0 3]\n",
      " [1 4]\n",
      " [2 5]]\n",
      "==========\n",
      "[[[6 7 7 5]\n",
      "  [3 0 6 9]\n",
      "  [1 6 4 1]]\n",
      "\n",
      " [[1 3 7 3]\n",
      "  [9 6 2 3]\n",
      "  [9 2 7 9]]]\n",
      "(2, 3, 4)\n",
      "==========\n",
      "[[[6 7 7 5]\n",
      "  [1 3 7 3]]\n",
      "\n",
      " [[3 0 6 9]\n",
      "  [9 6 2 3]]\n",
      "\n",
      " [[1 6 4 1]\n",
      "  [9 2 7 9]]]\n",
      "(3, 2, 4)\n"
     ]
    }
   ],
   "source": [
    "a2 = np.arange(6).reshape(2,3)\n",
    "print(a2)\n",
    "a2t = a2.T\n",
    "print(a2t)\n",
    "a2t2 = np.transpose(a2)\n",
    "print(a2t2)\n",
    "print(\"==========\")\n",
    "a3 = np.random.randint(10, size=(2,3,4))\n",
    "print(a3)\n",
    "print(a3.shape)\n",
    "print(\"==========\")\n",
    "a3t = np.transpose(a3, axes=(1,0,2))\n",
    "print(a3t)\n",
    "print(a3t.shape)"
   ]
  },
  {
   "cell_type": "markdown",
   "metadata": {},
   "source": [
    "排序sort,argsort"
   ]
  },
  {
   "cell_type": "code",
   "execution_count": 25,
   "metadata": {},
   "outputs": [
    {
     "name": "stdout",
     "output_type": "stream",
     "text": [
      "[5 4 9 2 9 3]\n",
      "========\n",
      "[2 3 4 5 9 9]\n",
      "========\n",
      "[3 5 1 0 2 4]\n",
      "========\n",
      "[2 3 4 5 9 9]\n",
      "[5 9 9]\n"
     ]
    }
   ],
   "source": [
    "a = np.random.randint(10,size=6)\n",
    "#a = np.random.randint(10, size=(2,3))\n",
    "print(a)\n",
    "print(\"========\")\n",
    "sa = np.sort(a)#排序 \n",
    "print(sa)\n",
    "print(\"========\")\n",
    "saindex = np.argsort(a)#排序值的位子\n",
    "print(saindex)\n",
    "print(\"========\") \n",
    "print(a[saindex])\n",
    "print(sa[-3:])"
   ]
  },
  {
   "cell_type": "code",
   "execution_count": 29,
   "metadata": {},
   "outputs": [
    {
     "name": "stdout",
     "output_type": "stream",
     "text": [
      "[[8 7 3]\n",
      " [5 4 4]]\n",
      "[[5 4 3]\n",
      " [8 7 4]]\n",
      "[[1 1 0]\n",
      " [0 0 1]]\n"
     ]
    }
   ],
   "source": [
    "a2 = np.random.randint(10, size=(2,3))\n",
    "sa2 = np.sort(a2, axis=0)#排序欄\n",
    "sa2index = np.argsort(a2, axis=0)\n",
    "print(a2)\n",
    "print(sa2)\n",
    "print(sa2index)"
   ]
  },
  {
   "cell_type": "code",
   "execution_count": 32,
   "metadata": {},
   "outputs": [
    {
     "name": "stdout",
     "output_type": "stream",
     "text": [
      "[(2113001, 'aaa', 90, 70, 80) (2113002, 'bbb', 45, 88, 74)\n",
      " (2113003, 'ccc', 10, 80, 30) (2113004, 'ddd', 90, 77, 33)]\n",
      "[(2113003, 'ccc', 10, 80, 30) (2113002, 'bbb', 45, 88, 74)\n",
      " (2113001, 'aaa', 90, 70, 80) (2113004, 'ddd', 90, 77, 33)]\n",
      "[(2113003, 'ccc', 10, 80, 30) (2113002, 'bbb', 45, 88, 74)\n",
      " (2113001, 'aaa', 90, 70, 80) (2113004, 'ddd', 90, 77, 33)]\n"
     ]
    }
   ],
   "source": [
    "vaules = [(2113001,'aaa',90,70,80),(2113002,'bbb',45,88,74),(2113003,'ccc',10,80,30),(2113004,'ddd',90,77,33)]\n",
    "dt = [('id',int),('name','U10'),('chScore',int),('enScore',int),('mathScore',int)]\n",
    "data = np.array(vaules,dtype=dt)\n",
    "print(data)\n",
    "sortData = np.sort(data, order=['chScore'])#用chScore排序\n",
    "print(sortData)\n",
    "sortData2 = np.sort(data, order=['chScore','enScore'])\n",
    "print(sortData2)\n",
    "\n"
   ]
  },
  {
   "cell_type": "markdown",
   "metadata": {},
   "source": [
    "單位矩陣"
   ]
  },
  {
   "cell_type": "code",
   "execution_count": 44,
   "metadata": {},
   "outputs": [
    {
     "name": "stdout",
     "output_type": "stream",
     "text": [
      "[[1. 0. 0. 0. 0.]\n",
      " [0. 1. 0. 0. 0.]\n",
      " [0. 0. 1. 0. 0.]\n",
      " [0. 0. 0. 1. 0.]\n",
      " [0. 0. 0. 0. 1.]]\n",
      "[[1. 0. 0. 0. 0.]\n",
      " [0. 1. 0. 0. 0.]\n",
      " [0. 0. 1. 0. 0.]\n",
      " [0. 0. 0. 1. 0.]\n",
      " [0. 0. 0. 0. 1.]]\n",
      "[[1. 0. 0. 0. 0. 0. 0.]\n",
      " [0. 1. 0. 0. 0. 0. 0.]\n",
      " [0. 0. 1. 0. 0. 0. 0.]\n",
      " [0. 0. 0. 1. 0. 0. 0.]\n",
      " [0. 0. 0. 0. 1. 0. 0.]]\n",
      "[[0. 1. 0. 0. 0.]\n",
      " [0. 0. 1. 0. 0.]\n",
      " [0. 0. 0. 1. 0.]\n",
      " [0. 0. 0. 0. 1.]\n",
      " [0. 0. 0. 0. 0.]]\n",
      "[[0. 0. 0. 0. 0.]\n",
      " [1. 0. 0. 0. 0.]\n",
      " [0. 1. 0. 0. 0.]\n",
      " [0. 0. 1. 0. 0.]\n",
      " [0. 0. 0. 1. 0.]]\n"
     ]
    }
   ],
   "source": [
    "a = np.identity(5)#5*5的單位矩陣\n",
    "print(a)\n",
    "b = np.eye(5)#5*5的單位矩陣\n",
    "print(b)\n",
    "c = np.eye(5,7)#5*7的單位矩陣\n",
    "print(c)\n",
    "d = np.eye(5,k=1)#1的位子開始\n",
    "print(d)\n",
    "e = np.eye(5,k=-1)#-1欄的位子開始\n",
    "print(e)"
   ]
  },
  {
   "cell_type": "markdown",
   "metadata": {},
   "source": [
    "壓平,np.flatten(), npravel()"
   ]
  },
  {
   "cell_type": "code",
   "execution_count": 49,
   "metadata": {},
   "outputs": [
    {
     "name": "stdout",
     "output_type": "stream",
     "text": [
      "[[0 1 2]\n",
      " [3 4 5]]\n",
      "[0 1 2 3 4 5]\n",
      "[0 9 2 3 4 5]\n",
      "[[0 1 2]\n",
      " [3 4 5]]\n",
      "[0 1 2 3 4 5]\n",
      "[[0 9 2]\n",
      " [3 4 5]]\n"
     ]
    }
   ],
   "source": [
    "a2 = np.arange(6).reshape(2,3)\n",
    "print(a2)\n",
    "b = a2.flatten()#生成新的a2\n",
    "print(b)\n",
    "b[1] = 9\n",
    "print(b)\n",
    "print(a2)\n",
    "\n",
    "c = np.ravel(a2)#原本的a2\n",
    "print(c)\n",
    "c[1]=9\n",
    "print(a2)"
   ]
  }
 ],
 "metadata": {
  "interpreter": {
   "hash": "b3ba2566441a7c06988d0923437866b63cedc61552a5af99d1f4fb67d367b25f"
  },
  "kernelspec": {
   "display_name": "Python 3.8.8 64-bit ('base': conda)",
   "name": "python3"
  },
  "language_info": {
   "codemirror_mode": {
    "name": "ipython",
    "version": 3
   },
   "file_extension": ".py",
   "mimetype": "text/x-python",
   "name": "python",
   "nbconvert_exporter": "python",
   "pygments_lexer": "ipython3",
   "version": "3.8.8"
  },
  "orig_nbformat": 4
 },
 "nbformat": 4,
 "nbformat_minor": 2
}
