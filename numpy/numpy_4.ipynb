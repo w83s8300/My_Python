{
 "cells": [
  {
   "cell_type": "markdown",
   "metadata": {},
   "source": [
    "陣列合併np.r_[x,y,z]x是指在哪一個軸合併, y是指變幾軸,z是指把要合併的資料變幾軸\n",
    ",np.c_[]"
   ]
  },
  {
   "cell_type": "code",
   "execution_count": 48,
   "metadata": {},
   "outputs": [
    {
     "name": "stdout",
     "output_type": "stream",
     "text": [
      "[0 1 2 3 4 5 6 7 8 9]\n",
      "[0 1 2 3 4 5 6 7 8 9]\n",
      "[0 1 2 3 4 0 1 2 3 4 5 6 7 8 9]\n",
      "[ 1.         11.          0.          1.          2.          3.\n",
      "  4.          5.          6.          7.          8.          9.\n",
      "  0.          1.          2.          3.          4.          0.\n",
      "  1.          2.          3.          4.          5.          6.\n",
      "  7.          8.          9.          2.          3.          0.26101563\n",
      "  0.29313923  0.73603892]\n"
     ]
    }
   ],
   "source": [
    "import numpy as np \n",
    "import pandas as pd\n",
    "a = np.r_[0:10:1]\n",
    "print(a)\n",
    "a = np.r_[:10]\n",
    "print(a)\n",
    "b = np.r_[5:,a]#合併[0到4]和a\n",
    "print(b)\n",
    "c = np.r_[1, 11, a, b, np.array([2,3]),np.random.rand(3)]\n",
    "print(c)"
   ]
  },
  {
   "cell_type": "code",
   "execution_count": 38,
   "metadata": {},
   "outputs": [
    {
     "name": "stdout",
     "output_type": "stream",
     "text": [
      "[0 1 2]\n",
      "[0 0 0]\n",
      "[0 1 2 0 0 0]\n",
      "[[0]\n",
      " [1]\n",
      " [2]\n",
      " [0]\n",
      " [0]\n",
      " [0]]\n",
      "[[0 1 2]\n",
      " [0 0 0]]\n",
      "[[0 0]\n",
      " [1 0]\n",
      " [2 0]]\n"
     ]
    }
   ],
   "source": [
    "a =np.arange(3)\n",
    "print(a)\n",
    "b = np.zeros_like(a)\n",
    "print(b)\n",
    "c = np.r_['0', a, b ]\n",
    "print(c)\n",
    "d = np.r_['0,2,0', a, b]#['0,2,0']是指第0欄(直的) 2是指2城 0是指把原是資料變直的\n",
    "print(d)\n",
    "e = np.r_['0,2, 1', a, b]#['0,2,1']是指第0欄(直的) 2是指2城 0是指把原是資料變橫的\n",
    "print(e)\n",
    "f = np.r_['1,2,0',a,b]\n",
    "print(f)\n"
   ]
  },
  {
   "cell_type": "code",
   "execution_count": 52,
   "metadata": {},
   "outputs": [
    {
     "name": "stdout",
     "output_type": "stream",
     "text": [
      "[[0. 0. 0.]\n",
      " [0. 0. 0.]]\n",
      "[[1. 1. 1.]\n",
      " [1. 1. 1.]]\n",
      "c [[0. 0. 0.]\n",
      " [0. 0. 0.]\n",
      " [1. 1. 1.]\n",
      " [1. 1. 1.]]\n",
      "d [[0. 0. 0. 1. 1. 1.]\n",
      " [0. 0. 0. 1. 1. 1.]]\n",
      "e [[[0.]\n",
      "  [0.]\n",
      "  [0.]]\n",
      "\n",
      " [[0.]\n",
      "  [0.]\n",
      "  [0.]]\n",
      "\n",
      " [[1.]\n",
      "  [1.]\n",
      "  [1.]]\n",
      "\n",
      " [[1.]\n",
      "  [1.]\n",
      "  [1.]]]\n",
      "[[[0.]\n",
      "  [0.]\n",
      "  [0.]\n",
      "  [1.]\n",
      "  [1.]\n",
      "  [1.]]\n",
      "\n",
      " [[0.]\n",
      "  [0.]\n",
      "  [0.]\n",
      "  [1.]\n",
      "  [1.]\n",
      "  [1.]]]\n"
     ]
    }
   ],
   "source": [
    "a = np.zeros((2,3))\n",
    "print(a)\n",
    "b =np.ones_like(a)\n",
    "print(b)\n",
    "c = np.r_[a,b]\n",
    "print(\"c\",c)\n",
    "d = np.r_['1',a,b]\n",
    "print(\"d\",d)\n",
    "e = np.r_['0,3,0',a,b]\n",
    "print(\"e\",e)\n",
    "f = np.r_['1,3,0',a,b]\n",
    "print(f)\n",
    "\n",
    "\n"
   ]
  },
  {
   "cell_type": "code",
   "execution_count": 89,
   "metadata": {},
   "outputs": [
    {
     "name": "stdout",
     "output_type": "stream",
     "text": [
      "[[[[[0. 0. 0.]\n",
      "    [0. 0. 0.]\n",
      "    [1. 1. 1.]\n",
      "    [1. 1. 1.]]]]]\n"
     ]
    }
   ],
   "source": [
    "a = np.zeros((2,3))\n",
    "b =np.ones_like(a)\n",
    "c = np.r_['3,5,3',a,b]\n",
    "print(c)\n",
    "d = np.r_['4,5,1',a,b]\n",
    "e = np.r_['-1',a,b]\n",
    "f = np.c_[a,b]\n",
    "\n"
   ]
  },
  {
   "cell_type": "markdown",
   "metadata": {},
   "source": [
    "抽選,choice"
   ]
  },
  {
   "cell_type": "code",
   "execution_count": 58,
   "metadata": {},
   "outputs": [
    {
     "name": "stdout",
     "output_type": "stream",
     "text": [
      "['jo' 'al' 'jo']\n",
      "['al' 'jo' 'po']\n",
      "['po' 'po' 'al' 'po' 'pe' 'po' 'po' 'po' 'po' 'po']\n"
     ]
    }
   ],
   "source": [
    "name = np.array(['pe','al','jo','po'])\n",
    "x = np.random.choice(name, 3)\n",
    "print(x)\n",
    "x = np.random.choice(name,3,replace=False)#抽3次 replace=False是不重複\n",
    "print(x)\n",
    "prob = [0.05,0.1,0.1,0.75]\n",
    "x = np.random.choice(name,10,p=prob)#p是指機率\n",
    "print(x)\n",
    "\n"
   ]
  },
  {
   "cell_type": "code",
   "execution_count": 60,
   "metadata": {},
   "outputs": [
    {
     "name": "stdout",
     "output_type": "stream",
     "text": [
      "[0 1 2 3 4 5 6 7 8 9]\n",
      "[7 4 1 0 5 2 9 8 6 3]\n"
     ]
    }
   ],
   "source": [
    "a = np.arange(10)\n",
    "print(a)\n",
    "np.random.shuffle(a)#隨機排列\n",
    "print(a)"
   ]
  },
  {
   "cell_type": "code",
   "execution_count": 61,
   "metadata": {},
   "outputs": [
    {
     "name": "stdout",
     "output_type": "stream",
     "text": [
      "[[0.47841468 0.55740913 0.40588999 0.14443531 0.94856161 0.98968699]\n",
      " [0.11246549 0.50469203 0.4266077  0.46514871 0.84786804 0.69543892]\n",
      " [0.77931843 0.23698606 0.34233008 0.31294239 0.3858799  0.01926344]\n",
      " [0.86370232 0.99337835 0.38256035 0.98649968 0.53661066 0.42731165]\n",
      " [0.62246416 0.51052591 0.50538296 0.80414463 0.46832281 0.29499871]]\n",
      "[[0.47841468 0.55740913 0.40588999 0.14443531 0.94856161 0.98968699]\n",
      " [0.11246549 0.50469203 0.4266077  0.46514871 0.84786804 0.69543892]\n",
      " [0.77931843 0.23698606 0.34233008 0.31294239 0.3858799  0.01926344]\n",
      " [0.86370232 0.99337835 0.38256035 0.98649968 0.53661066 0.42731165]\n",
      " [0.62246416 0.51052591 0.50538296 0.80414463 0.46832281 0.29499871]]\n"
     ]
    }
   ],
   "source": [
    "a = np.random.rand(5,6)\n",
    "print(a)\n",
    "np.save('data_a',a)\n",
    "b = np.load('data_a.npy')\n",
    "print(b)\n"
   ]
  },
  {
   "cell_type": "code",
   "execution_count": 63,
   "metadata": {},
   "outputs": [
    {
     "name": "stdout",
     "output_type": "stream",
     "text": [
      "[[0.48 0.56 0.41 0.14 0.95 0.99]\n",
      " [0.11 0.5  0.43 0.47 0.85 0.7 ]\n",
      " [0.78 0.24 0.34 0.31 0.39 0.02]\n",
      " [0.86 0.99 0.38 0.99 0.54 0.43]\n",
      " [0.62 0.51 0.51 0.8  0.47 0.29]]\n",
      "[[0.48 0.99]\n",
      " [0.11 0.7 ]\n",
      " [0.78 0.02]\n",
      " [0.86 0.43]\n",
      " [0.62 0.29]]\n",
      "[[0.86 0.43]\n",
      " [0.62 0.29]]\n"
     ]
    }
   ],
   "source": [
    "np.savetxt('datatxt.txt',a,fmt='%.2f')#變取小數2位\n",
    "c = np.loadtxt('datatxt.txt')\n",
    "print(c)\n",
    "c = np.loadtxt('datatxt.txt',usecols=(0,5))#取前2的\n",
    "print(c)\n",
    "c = np.loadtxt('datatxt.txt',skiprows=3,usecols=(0,5))#skiprows跳過幾行\n",
    "print(c)\n",
    "\n"
   ]
  }
 ],
 "metadata": {
  "interpreter": {
   "hash": "b3ba2566441a7c06988d0923437866b63cedc61552a5af99d1f4fb67d367b25f"
  },
  "kernelspec": {
   "display_name": "Python 3.8.8 64-bit ('base': conda)",
   "name": "python3"
  },
  "language_info": {
   "codemirror_mode": {
    "name": "ipython",
    "version": 3
   },
   "file_extension": ".py",
   "mimetype": "text/x-python",
   "name": "python",
   "nbconvert_exporter": "python",
   "pygments_lexer": "ipython3",
   "version": "3.8.8"
  },
  "orig_nbformat": 4
 },
 "nbformat": 4,
 "nbformat_minor": 2
}
