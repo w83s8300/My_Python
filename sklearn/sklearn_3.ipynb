{
 "cells": [
  {
   "cell_type": "code",
   "execution_count": 1,
   "metadata": {},
   "outputs": [],
   "source": [
    "import numpy as np\n",
    "import matplotlib.pyplot as plt\n",
    "from sklearn.tree import DecisionTreeClassifier\n",
    "from sklearn.neighbors import KNeighborsClassifier\n",
    "from sklearn.metrics import accuracy_score ,confusion_matrix\n",
    "from sklearn.model_selection import train_test_split\n",
    "from sklearn.datasets import fetch_openml\n",
    "from sklearn.model_selection import GridSearchCV\n",
    "\n",
    "data = fetch_openml(\"mnist_784\")\n",
    "\n"
   ]
  },
  {
   "cell_type": "code",
   "execution_count": 2,
   "metadata": {},
   "outputs": [
    {
     "name": "stdout",
     "output_type": "stream",
     "text": [
      "Best Params is{'max_depth': 15}\n",
      "Best Score is0.8730666666666667\n",
      "accuracy of tree_grid is 0.882\n"
     ]
    }
   ],
   "source": [
    "x, y =np.array(data.data),np.array(data.target)\n",
    "x_train,x_test,y_train,y_test=train_test_split(x,y,test_size=1/7.0)#將data.data和data.target產生資料拆分成訓練及測試二組。\n",
    "tree =DecisionTreeClassifier()#設定模式訓練規則 max_depth = 最大深度 random_state=随机状态\n",
    "\n",
    "tree_params={'max_depth':range(3,21,2)} #用字典方式，設定max_depth的參數，由3次到21次，每次加1。\n",
    "tree_grid = GridSearchCV(tree, param_grid=tree_params, cv=5 ,n_jobs=-1)\n",
    "#設定tree_grid模式測試參數，cv:把資料分成5份，4份作訓練、1份作比對，n_jos=-1設定多核CUP運作方式，-1表依機器設定\n",
    "tree_grid.fit(x_train,y_train) #帶入訓練資料\n",
    "print(f'Best Params is{tree_grid.best_params_}') #印出測試後的到最佳參數\n",
    "print(f'Best Score is{tree_grid.best_score_}') #印出測試後的到最佳分數\n",
    "print(f'accuracy of tree_grid is {accuracy_score(y_test,tree_grid.predict(x_test))}')\n"
   ]
  }
 ],
 "metadata": {
  "interpreter": {
   "hash": "b3ba2566441a7c06988d0923437866b63cedc61552a5af99d1f4fb67d367b25f"
  },
  "kernelspec": {
   "display_name": "Python 3.8.8 64-bit ('base': conda)",
   "language": "python",
   "name": "python3"
  },
  "language_info": {
   "codemirror_mode": {
    "name": "ipython",
    "version": 3
   },
   "file_extension": ".py",
   "mimetype": "text/x-python",
   "name": "python",
   "nbconvert_exporter": "python",
   "pygments_lexer": "ipython3",
   "version": "3.8.8"
  },
  "orig_nbformat": 4
 },
 "nbformat": 4,
 "nbformat_minor": 2
}
