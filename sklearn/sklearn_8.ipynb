{
 "cells": [
  {
   "cell_type": "code",
   "execution_count": 1,
   "metadata": {},
   "outputs": [],
   "source": [
    "import pandas as pd\n",
    "import numpy as np"
   ]
  },
  {
   "cell_type": "code",
   "execution_count": 9,
   "metadata": {},
   "outputs": [
    {
     "name": "stdout",
     "output_type": "stream",
     "text": [
      "   sepal length  sepal width  petal length  petal width  target\n",
      "0           5.1          3.5           1.4          0.2       0\n",
      "1           4.9          3.0           1.4          0.2       0\n",
      "2           4.7          3.2           1.3          0.2       0\n",
      "3           4.6          3.1           1.5          0.2       0\n",
      "4           5.0          3.6           1.4          0.2       0\n",
      "(150, 4)\n",
      "(150, 4)\n",
      "(150, 4)\n"
     ]
    }
   ],
   "source": [
    "df = pd.read_excel('iris.xlsx')\n",
    "print(df.head())\n",
    "y = df['target']\n",
    "x = df.drop(labels=\"target\",axis=1)\n",
    "print(x.shape)\n",
    "\n",
    "x = df.loc[:,['sepal width','petal length',\"petal width\",'sepal length']]\n",
    "print(x.shape)\n",
    "\n",
    "data = df.to_numpy()\n",
    "x,y =data[:,:-1],data[:,-1]\n",
    "print(x.shape)\n"
   ]
  },
  {
   "cell_type": "code",
   "execution_count": 10,
   "metadata": {},
   "outputs": [
    {
     "name": "stdout",
     "output_type": "stream",
     "text": [
      "accuracy_score:0.96\n"
     ]
    }
   ],
   "source": [
    "from sklearn.neural_network import MLPClassifier\n",
    "from sklearn.metrics import accuracy_score\n",
    "from sklearn.model_selection import train_test_split\n",
    "\n",
    "x_train,x_test,y_train,y_test=train_test_split(x,y,test_size=1/3.0)#將data.data和data.target產生資料拆分成訓練及測試二組。\n",
    "mlp = MLPClassifier(max_iter=1000)\n",
    "mlp.fit(x_train,y_train)\n",
    "print(f'accuracy_score:{accuracy_score(y_test,mlp.predict(x_test))}')\n"
   ]
  },
  {
   "cell_type": "markdown",
   "metadata": {},
   "source": [
    "GridSearchCV\n"
   ]
  },
  {
   "cell_type": "code",
   "execution_count": 13,
   "metadata": {},
   "outputs": [
    {
     "name": "stdout",
     "output_type": "stream",
     "text": [
      "Best Params is {'hidden_layer_sizes': (41, 11)}\n",
      "Best Params is 0.99\n",
      "accuracy_score is 0.98\n"
     ]
    }
   ],
   "source": [
    "from sklearn.model_selection import GridSearchCV\n",
    "\n",
    "#mlp = MLPClassifier()\n",
    "#mlp_params = {'hidden_layer_sizes':[(hls1, hls2) for hls1 in range(31,101,10) for hls2 in range(11, 41, 10)], 'max_iter':range(1000, 2000, 200)}\n",
    "mlp = MLPClassifier(max_iter=1000)\n",
    "mlp_params = {'hidden_layer_sizes':[(hls1, hls2) for hls1 in range(31,101,10) for hls2 in range(1, 41, 10)]}#參數\n",
    "mlp_grid = GridSearchCV(mlp, mlp_params, cv=5, n_jobs=-1)#把參數帶入GridSearchCV(mlp<MLPClassifier比對, mlp_params<參數, cv=5, n_jobs=-1)\n",
    "mlp_grid.fit(x_train, y_train)\n",
    "\n",
    "print(f'Best Params is {mlp_grid.best_params_}')\n",
    "print(f'Best Params is {mlp_grid.best_score_}')\n",
    "print(f'accuracy_score is {accuracy_score(y_test, mlp_grid.predict(x_test))}')\n",
    "\n"
   ]
  }
 ],
 "metadata": {
  "interpreter": {
   "hash": "b3ba2566441a7c06988d0923437866b63cedc61552a5af99d1f4fb67d367b25f"
  },
  "kernelspec": {
   "display_name": "Python 3.8.8 64-bit ('base': conda)",
   "language": "python",
   "name": "python3"
  },
  "language_info": {
   "codemirror_mode": {
    "name": "ipython",
    "version": 3
   },
   "file_extension": ".py",
   "mimetype": "text/x-python",
   "name": "python",
   "nbconvert_exporter": "python",
   "pygments_lexer": "ipython3",
   "version": "3.8.8"
  },
  "orig_nbformat": 4
 },
 "nbformat": 4,
 "nbformat_minor": 2
}
